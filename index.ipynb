{
 "cells": [
  {
   "cell_type": "code",
   "execution_count": null,
   "metadata": {},
   "outputs": [],
   "source": [
    "#| hide\n",
    "from nbvoc.core import *"
   ]
  },
  {
   "cell_type": "markdown",
   "metadata": {},
   "source": [
    "# nbvoc: Ontology Development with nbdev\n",
    "\n",
    "> A toolkit for developing ontologies using the literate programming approach of nbdev."
   ]
  },
  {
   "cell_type": "markdown",
   "metadata": {},
   "source": [
    "## Installation\n",
    "\n",
    "```python\n",
    "pip install git+https://github.com/charlesvardeman/nbvoc.git\n",
    "```\n"
   ]
  },
  {
   "cell_type": "markdown",
   "metadata": {},
   "source": [
    "## What is nbvoc?\n",
    "\n",
    "nbvoc combines the literate programming approach of nbdev with ontology development, allowing you to:\n",
    "\n",
    "1. Write ontologies in notebooks using Markdown-LD or Turtle syntax\n",
    "2. Test your ontologies with example data\n",
    "3. Export to various RDF formats (Turtle, JSON-LD, etc.)\n",
    "4. Generate documentation that explains your ontology design decisions\n"
   ]
  },
  {
   "cell_type": "markdown",
   "metadata": {},
   "source": [
    "## Basic Usage\n",
    "\n",
    "### Creating an Ontology Notebook\n",
    "\n",
    "Your ontology can be defined in two ways:\n"
   ]
  },
  {
   "cell_type": "markdown",
   "metadata": {},
   "source": [
    "#### Option 1: Using Code Cells with Turtle Syntax\n",
    "\n",
    "Create a **code cell** with valid Python that loads or processes Turtle data:"
   ]
  },
  {
   "cell_type": "code",
   "execution_count": null,
   "metadata": {},
   "outputs": [
    {
     "data": {
      "text/plain": [
       "<Graph identifier=N34e2386c9d184d3c98addd8d2b3a8c29 (<class 'rdflib.graph.Graph'>)>"
      ]
     },
     "execution_count": null,
     "metadata": {},
     "output_type": "execute_result"
    }
   ],
   "source": [
    "#| export_ttl\n",
    "# Define Turtle content as a Python string\n",
    "turtle_data = \"\"\"\n",
    "@prefix ex: <http://example.org/example#> .\n",
    "@prefix rdf: <http://www.w3.org/1999/02/22-rdf-syntax-ns#> .\n",
    "@prefix rdfs: <http://www.w3.org/2000/01/rdf-schema#> .\n",
    "\n",
    "ex:Person a rdfs:Class ;\n",
    "    rdfs:label \"Person\" ;\n",
    "    rdfs:comment \"A person in the example domain.\" .\n",
    "\n",
    "ex:name a rdf:Property ;\n",
    "    rdfs:domain ex:Person ;\n",
    "    rdfs:range rdfs:Literal ;\n",
    "    rdfs:label \"name\" ;\n",
    "    rdfs:comment \"The name of a person.\" .\n",
    "\"\"\"\n",
    "\n",
    "# You can optionally load this into a graph\n",
    "from rdflib import Graph\n",
    "g = Graph()\n",
    "g.parse(data=turtle_data, format=\"turtle\")"
   ]
  },
  {
   "cell_type": "markdown",
   "metadata": {},
   "source": [
    "#### Option 2: Using Markdown Cells with Markdown-LD\n",
    "\n",
    "Create a **Markdown cell** with Markdown-LD syntax:\n"
   ]
  },
  {
   "cell_type": "markdown",
   "metadata": {},
   "source": [
    "```markdown\n",
    "# Example Ontology\n",
    "\n",
    "```\n",
    "@prefix ex: <http://example.org/example#> .\n",
    "@prefix rdfs: <http://www.w3.org/2000/01/rdf-schema#> .\n",
    "@prefix owl: <http://www.w3.org/2002/07/owl#> .\n",
    "```\n",
    "\n",
    "## Organization\n",
    "\n",
    "`ex:Organization`\n",
    "\n",
    "```\n",
    "ex:Organization a rdfs:Class ;\n",
    "    rdfs:label \"Organization\" ;\n",
    "    rdfs:comment \"An organization such as a company or institution.\" .\n",
    "```\n",
    "\n",
    "### has name\n",
    "\n",
    "`ex:name`\n",
    "\n",
    "- `rdfs:Literal`\n",
    "\n",
    "### has member\n",
    "\n",
    "`ex:hasMember`\n",
    "\n",
    "- `ex:Person`\n",
    "```\n",
    "\n",
    "And add a directive in a **code cell** before or after the Markdown cell:\n",
    "\n",
    "```python\n",
    "#| export_mdld\n",
    "# This cell marks the adjacent Markdown cell for export\n",
    "```"
   ]
  }
 ],
 "metadata": {
  "kernelspec": {
   "display_name": "python3",
   "language": "python",
   "name": "python3"
  }
 },
 "nbformat": 4,
 "nbformat_minor": 4
}
